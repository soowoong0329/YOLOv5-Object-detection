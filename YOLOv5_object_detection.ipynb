{
  "nbformat": 4,
  "nbformat_minor": 0,
  "metadata": {
    "colab": {
      "name": "YOLOv5_detection.ipynb",
      "provenance": [],
      "collapsed_sections": []
    },
    "kernelspec": {
      "name": "python3",
      "display_name": "Python 3"
    },
    "language_info": {
      "name": "python"
    },
    "accelerator": "GPU"
  },
  "cells": [
    {
      "cell_type": "code",
      "metadata": {
        "id": "mJL3zotp-NbS"
      },
      "source": [
        "# 파이썬 버전확인\n",
        "\n",
        "!python --version"
      ],
      "execution_count": null,
      "outputs": []
    },
    {
      "cell_type": "code",
      "metadata": {
        "id": "4cOeQRPbE2wg"
      },
      "source": [
        "# 드라이브 연결\n",
        "\n",
        "from google.colab import drive\n",
        "\n",
        "drive.mount('/content/drive')"
      ],
      "execution_count": null,
      "outputs": []
    },
    {
      "cell_type": "code",
      "metadata": {
        "id": "eW0NlQLlKeaH"
      },
      "source": [
        "# Data Load\n",
        "\n",
        "! curl -L \"https://app.roboflow.com/ds/QFp82gA2dq?key=giqooPZzLT\" > roboflow.zip; unzip roboflow.zip; rm roboflow.zip"
      ],
      "execution_count": null,
      "outputs": []
    },
    {
      "cell_type": "code",
      "metadata": {
        "id": "Ukk2eBdjTfZa"
      },
      "source": [
        "# 이미지 크기확인\n",
        "\n",
        "from PIL import Image\n",
        " \n",
        "image1 = Image.open('/content/drive/MyDrive/test19_r180.jpg')\n",
        "\n",
        "image1.show()\n",
        "\n",
        "imag1_size = image1.size\n",
        "\n",
        "print(imag1_size)"
      ],
      "execution_count": null,
      "outputs": []
    },
    {
      "cell_type": "code",
      "metadata": {
        "id": "FeHt2QdEMDdf"
      },
      "source": [
        "# Model Load\n",
        "\n",
        "%cd /content\n",
        "\n",
        "!git clone https://github.com/ultralytics/yolov5.git"
      ],
      "execution_count": null,
      "outputs": []
    },
    {
      "cell_type": "code",
      "metadata": {
        "id": "kkvmZynFMem2"
      },
      "source": [
        "%cd /content/yolov5/\n",
        "!pip install -r requirements.txt"
      ],
      "execution_count": null,
      "outputs": []
    },
    {
      "cell_type": "code",
      "metadata": {
        "id": "OTceibklM6E-"
      },
      "source": [
        "# yaml classes check\n",
        "%cat /content/data.yaml"
      ],
      "execution_count": null,
      "outputs": []
    },
    {
      "cell_type": "code",
      "metadata": {
        "id": "iAAfKIPrO_-u"
      },
      "source": [
        "# Train Model\n",
        "\n",
        "%cd /content/yolov5/\n",
        "\n",
        "!python train.py --img 416 --batch 16 --epochs 100 --data /content/data.yaml  --weights yolov5x.pt --name tomato_yolov5x_results"
      ],
      "execution_count": null,
      "outputs": []
    },
    {
      "cell_type": "code",
      "metadata": {
        "id": "OdcD5mm9tQPp"
      },
      "source": [
        "# Result Tensorboard\n",
        "\n",
        "%load_ext tensorboard\n",
        "%tensorboard --logdir /content/yolov5/runs/"
      ],
      "execution_count": null,
      "outputs": []
    },
    {
      "cell_type": "code",
      "metadata": {
        "id": "6Ymv54QV4ASy"
      },
      "source": [
        "# 유튜브 동영상 다운 라이브러리\n",
        "! pip install pytube"
      ],
      "execution_count": null,
      "outputs": []
    },
    {
      "cell_type": "code",
      "metadata": {
        "id": "HaAeyvhK61W7"
      },
      "source": [
        "# 유튜브 동영상 다운로드\n",
        "from pytube import YouTube\n",
        "yt = YouTube('https://www.youtube.com/watch?v=XtP78V3YcGo') # 유튜브 영상 URL 입력\n",
        "yt.streams .filter(progressive=True, file_extension='mp4').order_by('resolution').desc().first() .download() \n"
      ],
      "execution_count": null,
      "outputs": []
    },
    {
      "cell_type": "code",
      "metadata": {
        "id": "qCPpfFbe4lmV"
      },
      "source": [
        "# 동영상 학습시키기\n",
        "%%time\n",
        "!python detect.py --weights /content/yolov5/runs/train/tomato_yolov5s_results2/weights/best.pt --img 416 --save-txt --exist-ok --line-thickness 1 --source /content/yolov5/Tomato2.mp4"
      ],
      "execution_count": null,
      "outputs": []
    },
    {
      "cell_type": "code",
      "metadata": {
        "id": "GA_iqBQBtStL"
      },
      "source": [
        "# 이미지 추출확인\n",
        "\n",
        "%cd /content/yolov5/\n",
        "\n",
        "from IPython.display import Image\n",
        "\n",
        "import os\n",
        "\n",
        "val_img_path = '/content/drive/MyDrive/test19_r180.jpg'\n",
        "\n",
        "!python detect.py --weights /content/drive/MyDrive/best.pt --img 416 --source '{val_img_path}' --save-txt --augment --line-linethickness 1\n",
        "\n",
        "Image(os.path.join('/content/yolov5/inference/output', os.path.basename(val_img_path)))"
      ],
      "execution_count": null,
      "outputs": []
    }
  ]
}